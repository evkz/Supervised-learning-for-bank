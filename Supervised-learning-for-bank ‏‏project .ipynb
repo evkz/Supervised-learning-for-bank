{
 "cells": [
  {
   "cell_type": "markdown",
   "metadata": {},
   "source": [
    "## Supervised Learning Project:"
   ]
  },
  {
   "cell_type": "markdown",
   "metadata": {},
   "source": [
    "### Project description:\n",
    "Beta Bank customers are leaving: little by little, chipping away every month. \n",
    "The bankers figured out it was cheaper to save the existing customers rather than to attract new ones.\n",
    "We need to predict whether a customer will leave the bank soon. \n",
    "We have the data on clients’ past behavior and termination of contracts with the bank.\n",
    "Build a model with the maximum possible F1 score. \n"
   ]
  },
  {
   "cell_type": "markdown",
   "metadata": {},
   "source": [
    "### Table of contents:\n",
    "* 1. [Data description](#Data-description:)\n",
    "* 2. [Download and prepare the data](#Download-and-prepare-the-data:)\n",
    "    * 2.1. [\"Tenure\" column](#%22Tenure%22-column:)\n",
    "    * 2.2. [Feature Preparation](#2.2.-Feature-Preparation:)\n",
    "* 3. [Examine the balance of classes](#3.-Examine-the-balance-of-classes:)\n",
    "* 4. [Improve the quality of the model](#4.-Improve-the-quality-of-the-model:)\n",
    "    * 4.1 [UpSample](#UpSample:)\n",
    "    * 4.2 [SMOTE(Synthetic Minority Oversampling Technique):](#SMOTE-(Synthetic-Minority-Oversampling-Technique):)\n",
    "* 5. [Perform the final testing](#5.-Perform-the-final-testing:)\n",
    "* 6. [Conclusions](#Conclusions:)"
   ]
  },
  {
   "cell_type": "markdown",
   "metadata": {},
   "source": [
    "### 1. Data description:\n",
    "**Features:**\n",
    "\n",
    "    * RowNumber — data string index\n",
    "    * CustomerId — unique customer identifier\n",
    "    * Surname — surname\n",
    "    * CreditScore — credit score\n",
    "    * Geography — country of residence\n",
    "    * Gender — gender\n",
    "    * Age — age\n",
    "    * Tenure — period of maturation for a customer’s fixed deposit (years)\n",
    "    * Balance — account balance\n",
    "    * NumOfProducts — number of banking products used by the customer\n",
    "    * HasCrCard — customer has a credit card\n",
    "    * IsActiveMember — customer’s activeness\n",
    "    * EstimatedSalary — estimated salary\n",
    "    \n",
    "**Target**\n",
    "\n",
    "    * Exited — сustomer has left"
   ]
  },
  {
   "cell_type": "markdown",
   "metadata": {},
   "source": [
    "### 2. Download and prepare the data:"
   ]
  },
  {
   "cell_type": "code",
   "execution_count": 1,
   "metadata": {},
   "outputs": [],
   "source": [
    "import pandas as pd\n",
    "import numpy as np\n",
    "from collections import Counter\n",
    "\n",
    "from sklearn.model_selection import train_test_split\n",
    "from sklearn.ensemble import RandomForestClassifier \n",
    "from sklearn.linear_model import LogisticRegression\n",
    "from sklearn.tree import DecisionTreeClassifier\n",
    "from sklearn.preprocessing import OrdinalEncoder\n",
    "from sklearn.metrics import accuracy_score\n",
    "from sklearn.metrics import f1_score\n",
    "from sklearn.utils import shuffle\n",
    "from imblearn.over_sampling import SMOTE\n",
    "from sklearn.utils import resample\n",
    "from sklearn.metrics import roc_auc_score\n",
    "from sklearn.metrics import roc_curve \n",
    "import sklearn.metrics as metrics\n",
    "\n",
    "import matplotlib.pyplot as plt"
   ]
  },
  {
   "cell_type": "code",
   "execution_count": 2,
   "metadata": {},
   "outputs": [
    {
     "data": {
      "text/html": [
       "<div>\n",
       "<style scoped>\n",
       "    .dataframe tbody tr th:only-of-type {\n",
       "        vertical-align: middle;\n",
       "    }\n",
       "\n",
       "    .dataframe tbody tr th {\n",
       "        vertical-align: top;\n",
       "    }\n",
       "\n",
       "    .dataframe thead th {\n",
       "        text-align: right;\n",
       "    }\n",
       "</style>\n",
       "<table border=\"1\" class=\"dataframe\">\n",
       "  <thead>\n",
       "    <tr style=\"text-align: right;\">\n",
       "      <th></th>\n",
       "      <th>RowNumber</th>\n",
       "      <th>CustomerId</th>\n",
       "      <th>Surname</th>\n",
       "      <th>CreditScore</th>\n",
       "      <th>Geography</th>\n",
       "      <th>Gender</th>\n",
       "      <th>Age</th>\n",
       "      <th>Tenure</th>\n",
       "      <th>Balance</th>\n",
       "      <th>NumOfProducts</th>\n",
       "      <th>HasCrCard</th>\n",
       "      <th>IsActiveMember</th>\n",
       "      <th>EstimatedSalary</th>\n",
       "      <th>Exited</th>\n",
       "    </tr>\n",
       "  </thead>\n",
       "  <tbody>\n",
       "    <tr>\n",
       "      <th>0</th>\n",
       "      <td>1</td>\n",
       "      <td>15634602</td>\n",
       "      <td>Hargrave</td>\n",
       "      <td>619</td>\n",
       "      <td>France</td>\n",
       "      <td>Female</td>\n",
       "      <td>42</td>\n",
       "      <td>2.0</td>\n",
       "      <td>0.00</td>\n",
       "      <td>1</td>\n",
       "      <td>1</td>\n",
       "      <td>1</td>\n",
       "      <td>101348.88</td>\n",
       "      <td>1</td>\n",
       "    </tr>\n",
       "    <tr>\n",
       "      <th>1</th>\n",
       "      <td>2</td>\n",
       "      <td>15647311</td>\n",
       "      <td>Hill</td>\n",
       "      <td>608</td>\n",
       "      <td>Spain</td>\n",
       "      <td>Female</td>\n",
       "      <td>41</td>\n",
       "      <td>1.0</td>\n",
       "      <td>83807.86</td>\n",
       "      <td>1</td>\n",
       "      <td>0</td>\n",
       "      <td>1</td>\n",
       "      <td>112542.58</td>\n",
       "      <td>0</td>\n",
       "    </tr>\n",
       "    <tr>\n",
       "      <th>2</th>\n",
       "      <td>3</td>\n",
       "      <td>15619304</td>\n",
       "      <td>Onio</td>\n",
       "      <td>502</td>\n",
       "      <td>France</td>\n",
       "      <td>Female</td>\n",
       "      <td>42</td>\n",
       "      <td>8.0</td>\n",
       "      <td>159660.80</td>\n",
       "      <td>3</td>\n",
       "      <td>1</td>\n",
       "      <td>0</td>\n",
       "      <td>113931.57</td>\n",
       "      <td>1</td>\n",
       "    </tr>\n",
       "    <tr>\n",
       "      <th>3</th>\n",
       "      <td>4</td>\n",
       "      <td>15701354</td>\n",
       "      <td>Boni</td>\n",
       "      <td>699</td>\n",
       "      <td>France</td>\n",
       "      <td>Female</td>\n",
       "      <td>39</td>\n",
       "      <td>1.0</td>\n",
       "      <td>0.00</td>\n",
       "      <td>2</td>\n",
       "      <td>0</td>\n",
       "      <td>0</td>\n",
       "      <td>93826.63</td>\n",
       "      <td>0</td>\n",
       "    </tr>\n",
       "    <tr>\n",
       "      <th>4</th>\n",
       "      <td>5</td>\n",
       "      <td>15737888</td>\n",
       "      <td>Mitchell</td>\n",
       "      <td>850</td>\n",
       "      <td>Spain</td>\n",
       "      <td>Female</td>\n",
       "      <td>43</td>\n",
       "      <td>2.0</td>\n",
       "      <td>125510.82</td>\n",
       "      <td>1</td>\n",
       "      <td>1</td>\n",
       "      <td>1</td>\n",
       "      <td>79084.10</td>\n",
       "      <td>0</td>\n",
       "    </tr>\n",
       "  </tbody>\n",
       "</table>\n",
       "</div>"
      ],
      "text/plain": [
       "   RowNumber  CustomerId   Surname  CreditScore Geography  Gender  Age  \\\n",
       "0          1    15634602  Hargrave          619    France  Female   42   \n",
       "1          2    15647311      Hill          608     Spain  Female   41   \n",
       "2          3    15619304      Onio          502    France  Female   42   \n",
       "3          4    15701354      Boni          699    France  Female   39   \n",
       "4          5    15737888  Mitchell          850     Spain  Female   43   \n",
       "\n",
       "   Tenure    Balance  NumOfProducts  HasCrCard  IsActiveMember  \\\n",
       "0     2.0       0.00              1          1               1   \n",
       "1     1.0   83807.86              1          0               1   \n",
       "2     8.0  159660.80              3          1               0   \n",
       "3     1.0       0.00              2          0               0   \n",
       "4     2.0  125510.82              1          1               1   \n",
       "\n",
       "   EstimatedSalary  Exited  \n",
       "0        101348.88       1  \n",
       "1        112542.58       0  \n",
       "2        113931.57       1  \n",
       "3         93826.63       0  \n",
       "4         79084.10       0  "
      ]
     },
     "execution_count": 2,
     "metadata": {},
     "output_type": "execute_result"
    }
   ],
   "source": [
    "try:\n",
    "     df = pd.read_csv('Churn.csv')\n",
    "except:\n",
    "    df = pd.read_csv('/datasets/Churn.csv')\n",
    "\n",
    "df.head()"
   ]
  },
  {
   "cell_type": "code",
   "execution_count": 3,
   "metadata": {},
   "outputs": [
    {
     "name": "stdout",
     "output_type": "stream",
     "text": [
      "<class 'pandas.core.frame.DataFrame'>\n",
      "RangeIndex: 10000 entries, 0 to 9999\n",
      "Data columns (total 14 columns):\n",
      " #   Column           Non-Null Count  Dtype  \n",
      "---  ------           --------------  -----  \n",
      " 0   RowNumber        10000 non-null  int64  \n",
      " 1   CustomerId       10000 non-null  int64  \n",
      " 2   Surname          10000 non-null  object \n",
      " 3   CreditScore      10000 non-null  int64  \n",
      " 4   Geography        10000 non-null  object \n",
      " 5   Gender           10000 non-null  object \n",
      " 6   Age              10000 non-null  int64  \n",
      " 7   Tenure           9091 non-null   float64\n",
      " 8   Balance          10000 non-null  float64\n",
      " 9   NumOfProducts    10000 non-null  int64  \n",
      " 10  HasCrCard        10000 non-null  int64  \n",
      " 11  IsActiveMember   10000 non-null  int64  \n",
      " 12  EstimatedSalary  10000 non-null  float64\n",
      " 13  Exited           10000 non-null  int64  \n",
      "dtypes: float64(3), int64(8), object(3)\n",
      "memory usage: 1.1+ MB\n"
     ]
    }
   ],
   "source": [
    "# Columns type:\n",
    "df.info()"
   ]
  },
  {
   "cell_type": "code",
   "execution_count": 4,
   "metadata": {},
   "outputs": [
    {
     "data": {
      "text/html": [
       "<div>\n",
       "<style scoped>\n",
       "    .dataframe tbody tr th:only-of-type {\n",
       "        vertical-align: middle;\n",
       "    }\n",
       "\n",
       "    .dataframe tbody tr th {\n",
       "        vertical-align: top;\n",
       "    }\n",
       "\n",
       "    .dataframe thead th {\n",
       "        text-align: right;\n",
       "    }\n",
       "</style>\n",
       "<table border=\"1\" class=\"dataframe\">\n",
       "  <thead>\n",
       "    <tr style=\"text-align: right;\">\n",
       "      <th></th>\n",
       "      <th>count</th>\n",
       "      <th>unique</th>\n",
       "      <th>top</th>\n",
       "      <th>freq</th>\n",
       "      <th>mean</th>\n",
       "      <th>std</th>\n",
       "      <th>min</th>\n",
       "      <th>25%</th>\n",
       "      <th>50%</th>\n",
       "      <th>75%</th>\n",
       "      <th>max</th>\n",
       "    </tr>\n",
       "  </thead>\n",
       "  <tbody>\n",
       "    <tr>\n",
       "      <th>RowNumber</th>\n",
       "      <td>10000.0</td>\n",
       "      <td>NaN</td>\n",
       "      <td>NaN</td>\n",
       "      <td>NaN</td>\n",
       "      <td>5000.5</td>\n",
       "      <td>2886.89568</td>\n",
       "      <td>1.0</td>\n",
       "      <td>2500.75</td>\n",
       "      <td>5000.5</td>\n",
       "      <td>7500.25</td>\n",
       "      <td>10000.0</td>\n",
       "    </tr>\n",
       "    <tr>\n",
       "      <th>CustomerId</th>\n",
       "      <td>10000.0</td>\n",
       "      <td>NaN</td>\n",
       "      <td>NaN</td>\n",
       "      <td>NaN</td>\n",
       "      <td>15690940.5694</td>\n",
       "      <td>71936.186123</td>\n",
       "      <td>15565701.0</td>\n",
       "      <td>15628528.25</td>\n",
       "      <td>15690738.0</td>\n",
       "      <td>15753233.75</td>\n",
       "      <td>15815690.0</td>\n",
       "    </tr>\n",
       "    <tr>\n",
       "      <th>Surname</th>\n",
       "      <td>10000</td>\n",
       "      <td>2932</td>\n",
       "      <td>Smith</td>\n",
       "      <td>32</td>\n",
       "      <td>NaN</td>\n",
       "      <td>NaN</td>\n",
       "      <td>NaN</td>\n",
       "      <td>NaN</td>\n",
       "      <td>NaN</td>\n",
       "      <td>NaN</td>\n",
       "      <td>NaN</td>\n",
       "    </tr>\n",
       "    <tr>\n",
       "      <th>CreditScore</th>\n",
       "      <td>10000.0</td>\n",
       "      <td>NaN</td>\n",
       "      <td>NaN</td>\n",
       "      <td>NaN</td>\n",
       "      <td>650.5288</td>\n",
       "      <td>96.653299</td>\n",
       "      <td>350.0</td>\n",
       "      <td>584.0</td>\n",
       "      <td>652.0</td>\n",
       "      <td>718.0</td>\n",
       "      <td>850.0</td>\n",
       "    </tr>\n",
       "    <tr>\n",
       "      <th>Geography</th>\n",
       "      <td>10000</td>\n",
       "      <td>3</td>\n",
       "      <td>France</td>\n",
       "      <td>5014</td>\n",
       "      <td>NaN</td>\n",
       "      <td>NaN</td>\n",
       "      <td>NaN</td>\n",
       "      <td>NaN</td>\n",
       "      <td>NaN</td>\n",
       "      <td>NaN</td>\n",
       "      <td>NaN</td>\n",
       "    </tr>\n",
       "    <tr>\n",
       "      <th>Gender</th>\n",
       "      <td>10000</td>\n",
       "      <td>2</td>\n",
       "      <td>Male</td>\n",
       "      <td>5457</td>\n",
       "      <td>NaN</td>\n",
       "      <td>NaN</td>\n",
       "      <td>NaN</td>\n",
       "      <td>NaN</td>\n",
       "      <td>NaN</td>\n",
       "      <td>NaN</td>\n",
       "      <td>NaN</td>\n",
       "    </tr>\n",
       "    <tr>\n",
       "      <th>Age</th>\n",
       "      <td>10000.0</td>\n",
       "      <td>NaN</td>\n",
       "      <td>NaN</td>\n",
       "      <td>NaN</td>\n",
       "      <td>38.9218</td>\n",
       "      <td>10.487806</td>\n",
       "      <td>18.0</td>\n",
       "      <td>32.0</td>\n",
       "      <td>37.0</td>\n",
       "      <td>44.0</td>\n",
       "      <td>92.0</td>\n",
       "    </tr>\n",
       "    <tr>\n",
       "      <th>Tenure</th>\n",
       "      <td>9091.0</td>\n",
       "      <td>NaN</td>\n",
       "      <td>NaN</td>\n",
       "      <td>NaN</td>\n",
       "      <td>4.99769</td>\n",
       "      <td>2.894723</td>\n",
       "      <td>0.0</td>\n",
       "      <td>2.0</td>\n",
       "      <td>5.0</td>\n",
       "      <td>7.0</td>\n",
       "      <td>10.0</td>\n",
       "    </tr>\n",
       "    <tr>\n",
       "      <th>Balance</th>\n",
       "      <td>10000.0</td>\n",
       "      <td>NaN</td>\n",
       "      <td>NaN</td>\n",
       "      <td>NaN</td>\n",
       "      <td>76485.889288</td>\n",
       "      <td>62397.405202</td>\n",
       "      <td>0.0</td>\n",
       "      <td>0.0</td>\n",
       "      <td>97198.54</td>\n",
       "      <td>127644.24</td>\n",
       "      <td>250898.09</td>\n",
       "    </tr>\n",
       "    <tr>\n",
       "      <th>NumOfProducts</th>\n",
       "      <td>10000.0</td>\n",
       "      <td>NaN</td>\n",
       "      <td>NaN</td>\n",
       "      <td>NaN</td>\n",
       "      <td>1.5302</td>\n",
       "      <td>0.581654</td>\n",
       "      <td>1.0</td>\n",
       "      <td>1.0</td>\n",
       "      <td>1.0</td>\n",
       "      <td>2.0</td>\n",
       "      <td>4.0</td>\n",
       "    </tr>\n",
       "    <tr>\n",
       "      <th>HasCrCard</th>\n",
       "      <td>10000.0</td>\n",
       "      <td>NaN</td>\n",
       "      <td>NaN</td>\n",
       "      <td>NaN</td>\n",
       "      <td>0.7055</td>\n",
       "      <td>0.45584</td>\n",
       "      <td>0.0</td>\n",
       "      <td>0.0</td>\n",
       "      <td>1.0</td>\n",
       "      <td>1.0</td>\n",
       "      <td>1.0</td>\n",
       "    </tr>\n",
       "    <tr>\n",
       "      <th>IsActiveMember</th>\n",
       "      <td>10000.0</td>\n",
       "      <td>NaN</td>\n",
       "      <td>NaN</td>\n",
       "      <td>NaN</td>\n",
       "      <td>0.5151</td>\n",
       "      <td>0.499797</td>\n",
       "      <td>0.0</td>\n",
       "      <td>0.0</td>\n",
       "      <td>1.0</td>\n",
       "      <td>1.0</td>\n",
       "      <td>1.0</td>\n",
       "    </tr>\n",
       "    <tr>\n",
       "      <th>EstimatedSalary</th>\n",
       "      <td>10000.0</td>\n",
       "      <td>NaN</td>\n",
       "      <td>NaN</td>\n",
       "      <td>NaN</td>\n",
       "      <td>100090.239881</td>\n",
       "      <td>57510.492818</td>\n",
       "      <td>11.58</td>\n",
       "      <td>51002.11</td>\n",
       "      <td>100193.915</td>\n",
       "      <td>149388.2475</td>\n",
       "      <td>199992.48</td>\n",
       "    </tr>\n",
       "    <tr>\n",
       "      <th>Exited</th>\n",
       "      <td>10000.0</td>\n",
       "      <td>NaN</td>\n",
       "      <td>NaN</td>\n",
       "      <td>NaN</td>\n",
       "      <td>0.2037</td>\n",
       "      <td>0.402769</td>\n",
       "      <td>0.0</td>\n",
       "      <td>0.0</td>\n",
       "      <td>0.0</td>\n",
       "      <td>0.0</td>\n",
       "      <td>1.0</td>\n",
       "    </tr>\n",
       "  </tbody>\n",
       "</table>\n",
       "</div>"
      ],
      "text/plain": [
       "                   count unique     top  freq           mean           std  \\\n",
       "RowNumber        10000.0    NaN     NaN   NaN         5000.5    2886.89568   \n",
       "CustomerId       10000.0    NaN     NaN   NaN  15690940.5694  71936.186123   \n",
       "Surname            10000   2932   Smith    32            NaN           NaN   \n",
       "CreditScore      10000.0    NaN     NaN   NaN       650.5288     96.653299   \n",
       "Geography          10000      3  France  5014            NaN           NaN   \n",
       "Gender             10000      2    Male  5457            NaN           NaN   \n",
       "Age              10000.0    NaN     NaN   NaN        38.9218     10.487806   \n",
       "Tenure            9091.0    NaN     NaN   NaN        4.99769      2.894723   \n",
       "Balance          10000.0    NaN     NaN   NaN   76485.889288  62397.405202   \n",
       "NumOfProducts    10000.0    NaN     NaN   NaN         1.5302      0.581654   \n",
       "HasCrCard        10000.0    NaN     NaN   NaN         0.7055       0.45584   \n",
       "IsActiveMember   10000.0    NaN     NaN   NaN         0.5151      0.499797   \n",
       "EstimatedSalary  10000.0    NaN     NaN   NaN  100090.239881  57510.492818   \n",
       "Exited           10000.0    NaN     NaN   NaN         0.2037      0.402769   \n",
       "\n",
       "                        min          25%         50%          75%         max  \n",
       "RowNumber               1.0      2500.75      5000.5      7500.25     10000.0  \n",
       "CustomerId       15565701.0  15628528.25  15690738.0  15753233.75  15815690.0  \n",
       "Surname                 NaN          NaN         NaN          NaN         NaN  \n",
       "CreditScore           350.0        584.0       652.0        718.0       850.0  \n",
       "Geography               NaN          NaN         NaN          NaN         NaN  \n",
       "Gender                  NaN          NaN         NaN          NaN         NaN  \n",
       "Age                    18.0         32.0        37.0         44.0        92.0  \n",
       "Tenure                  0.0          2.0         5.0          7.0        10.0  \n",
       "Balance                 0.0          0.0    97198.54    127644.24   250898.09  \n",
       "NumOfProducts           1.0          1.0         1.0          2.0         4.0  \n",
       "HasCrCard               0.0          0.0         1.0          1.0         1.0  \n",
       "IsActiveMember          0.0          0.0         1.0          1.0         1.0  \n",
       "EstimatedSalary       11.58     51002.11  100193.915  149388.2475   199992.48  \n",
       "Exited                  0.0          0.0         0.0          0.0         1.0  "
      ]
     },
     "execution_count": 4,
     "metadata": {},
     "output_type": "execute_result"
    }
   ],
   "source": [
    "# Columns genral info: \n",
    "df.describe(include='all').T"
   ]
  },
  {
   "cell_type": "code",
   "execution_count": 5,
   "metadata": {},
   "outputs": [
    {
     "data": {
      "text/html": [
       "<div>\n",
       "<style scoped>\n",
       "    .dataframe tbody tr th:only-of-type {\n",
       "        vertical-align: middle;\n",
       "    }\n",
       "\n",
       "    .dataframe tbody tr th {\n",
       "        vertical-align: top;\n",
       "    }\n",
       "\n",
       "    .dataframe thead th {\n",
       "        text-align: right;\n",
       "    }\n",
       "</style>\n",
       "<table border=\"1\" class=\"dataframe\">\n",
       "  <thead>\n",
       "    <tr style=\"text-align: right;\">\n",
       "      <th></th>\n",
       "      <th>RowNumber</th>\n",
       "      <th>CustomerId</th>\n",
       "      <th>Surname</th>\n",
       "      <th>CreditScore</th>\n",
       "      <th>Geography</th>\n",
       "      <th>Gender</th>\n",
       "      <th>Age</th>\n",
       "      <th>Tenure</th>\n",
       "      <th>Balance</th>\n",
       "      <th>NumOfProducts</th>\n",
       "      <th>HasCrCard</th>\n",
       "      <th>IsActiveMember</th>\n",
       "      <th>EstimatedSalary</th>\n",
       "      <th>Exited</th>\n",
       "    </tr>\n",
       "  </thead>\n",
       "  <tbody>\n",
       "  </tbody>\n",
       "</table>\n",
       "</div>"
      ],
      "text/plain": [
       "Empty DataFrame\n",
       "Columns: [RowNumber, CustomerId, Surname, CreditScore, Geography, Gender, Age, Tenure, Balance, NumOfProducts, HasCrCard, IsActiveMember, EstimatedSalary, Exited]\n",
       "Index: []"
      ]
     },
     "execution_count": 5,
     "metadata": {},
     "output_type": "execute_result"
    }
   ],
   "source": [
    "# Check for duplicated rows:\n",
    "df[df.duplicated()==True]"
   ]
  },
  {
   "cell_type": "code",
   "execution_count": 6,
   "metadata": {},
   "outputs": [
    {
     "name": "stdout",
     "output_type": "stream",
     "text": [
      "RowNumber          0.0000\n",
      "CustomerId         0.0000\n",
      "Surname            0.0000\n",
      "CreditScore        0.0000\n",
      "Geography          0.0000\n",
      "Gender             0.0000\n",
      "Age                0.0000\n",
      "Tenure             0.0909\n",
      "Balance            0.0000\n",
      "NumOfProducts      0.0000\n",
      "HasCrCard          0.0000\n",
      "IsActiveMember     0.0000\n",
      "EstimatedSalary    0.0000\n",
      "Exited             0.0000\n",
      "dtype: float64\n"
     ]
    }
   ],
   "source": [
    "#Porcentage of NA in the Dataset\n",
    "nan_pct = (df.isnull().sum(axis=0) / len(df))\n",
    "print(nan_pct)"
   ]
  },
  {
   "cell_type": "markdown",
   "metadata": {},
   "source": [
    "**\"Tenure\" column has 9.09%, 909, missings values.**"
   ]
  },
  {
   "cell_type": "markdown",
   "metadata": {},
   "source": [
    "#### 2.1. \"Tenure\" column:\n",
    "I want to keep all the data, I don't know enough to try and find out what the missing values are.\n",
    "I'm going to set the number 0 for all the missing values, assuming that if the data do not exist it's probably because it's 0, and also, I believe 0 would have the minimum impact on the data."
   ]
  },
  {
   "cell_type": "code",
   "execution_count": 7,
   "metadata": {},
   "outputs": [
    {
     "data": {
      "text/plain": [
       "count    10000.000000\n",
       "mean         4.543400\n",
       "std          3.111573\n",
       "min          0.000000\n",
       "25%          2.000000\n",
       "50%          4.000000\n",
       "75%          7.000000\n",
       "max         10.000000\n",
       "Name: Tenure, dtype: float64"
      ]
     },
     "execution_count": 7,
     "metadata": {},
     "output_type": "execute_result"
    }
   ],
   "source": [
    "df = df.fillna(value = 0, axis = 'index')\n",
    "df['Tenure'].describe()"
   ]
  },
  {
   "cell_type": "markdown",
   "metadata": {},
   "source": [
    "#### 2.2. Feature Preparation:\n",
    "* The data set contain 13 features. \n",
    "* 3 of the features seem to be irrelevant: RowNumber, CustomerId, and Surname. \n",
    "* 4 of the features are categorical: Geography, Gender, HasCrCard, IsActiveMember\n",
    "* 6 of the features are numerical: CreditScore, Age, Tenure, Balance, NumOfProducts, EstimatedSalary\n",
    "* Logistic regression and Decision tree determine the category using a formula consisting of numerical features, for that reason we are going to change the categorical features into numerical features in two different ways and create two different databases."
   ]
  },
  {
   "cell_type": "code",
   "execution_count": 8,
   "metadata": {},
   "outputs": [],
   "source": [
    "df = df.drop(['RowNumber', 'CustomerId', 'Surname'], axis=1)"
   ]
  },
  {
   "cell_type": "markdown",
   "metadata": {},
   "source": [
    "##### Change the categorical features into numerical features for LogisticRegression model:"
   ]
  },
  {
   "cell_type": "code",
   "execution_count": 9,
   "metadata": {},
   "outputs": [
    {
     "data": {
      "text/html": [
       "<div>\n",
       "<style scoped>\n",
       "    .dataframe tbody tr th:only-of-type {\n",
       "        vertical-align: middle;\n",
       "    }\n",
       "\n",
       "    .dataframe tbody tr th {\n",
       "        vertical-align: top;\n",
       "    }\n",
       "\n",
       "    .dataframe thead th {\n",
       "        text-align: right;\n",
       "    }\n",
       "</style>\n",
       "<table border=\"1\" class=\"dataframe\">\n",
       "  <thead>\n",
       "    <tr style=\"text-align: right;\">\n",
       "      <th></th>\n",
       "      <th>count</th>\n",
       "      <th>mean</th>\n",
       "      <th>std</th>\n",
       "      <th>min</th>\n",
       "      <th>25%</th>\n",
       "      <th>50%</th>\n",
       "      <th>75%</th>\n",
       "      <th>max</th>\n",
       "    </tr>\n",
       "  </thead>\n",
       "  <tbody>\n",
       "    <tr>\n",
       "      <th>CreditScore</th>\n",
       "      <td>10000.0</td>\n",
       "      <td>650.528800</td>\n",
       "      <td>96.653299</td>\n",
       "      <td>350.00</td>\n",
       "      <td>584.00</td>\n",
       "      <td>652.000</td>\n",
       "      <td>718.0000</td>\n",
       "      <td>850.00</td>\n",
       "    </tr>\n",
       "    <tr>\n",
       "      <th>Age</th>\n",
       "      <td>10000.0</td>\n",
       "      <td>38.921800</td>\n",
       "      <td>10.487806</td>\n",
       "      <td>18.00</td>\n",
       "      <td>32.00</td>\n",
       "      <td>37.000</td>\n",
       "      <td>44.0000</td>\n",
       "      <td>92.00</td>\n",
       "    </tr>\n",
       "    <tr>\n",
       "      <th>Tenure</th>\n",
       "      <td>10000.0</td>\n",
       "      <td>4.543400</td>\n",
       "      <td>3.111573</td>\n",
       "      <td>0.00</td>\n",
       "      <td>2.00</td>\n",
       "      <td>4.000</td>\n",
       "      <td>7.0000</td>\n",
       "      <td>10.00</td>\n",
       "    </tr>\n",
       "    <tr>\n",
       "      <th>Balance</th>\n",
       "      <td>10000.0</td>\n",
       "      <td>76485.889288</td>\n",
       "      <td>62397.405202</td>\n",
       "      <td>0.00</td>\n",
       "      <td>0.00</td>\n",
       "      <td>97198.540</td>\n",
       "      <td>127644.2400</td>\n",
       "      <td>250898.09</td>\n",
       "    </tr>\n",
       "    <tr>\n",
       "      <th>NumOfProducts</th>\n",
       "      <td>10000.0</td>\n",
       "      <td>1.530200</td>\n",
       "      <td>0.581654</td>\n",
       "      <td>1.00</td>\n",
       "      <td>1.00</td>\n",
       "      <td>1.000</td>\n",
       "      <td>2.0000</td>\n",
       "      <td>4.00</td>\n",
       "    </tr>\n",
       "    <tr>\n",
       "      <th>HasCrCard</th>\n",
       "      <td>10000.0</td>\n",
       "      <td>0.705500</td>\n",
       "      <td>0.455840</td>\n",
       "      <td>0.00</td>\n",
       "      <td>0.00</td>\n",
       "      <td>1.000</td>\n",
       "      <td>1.0000</td>\n",
       "      <td>1.00</td>\n",
       "    </tr>\n",
       "    <tr>\n",
       "      <th>IsActiveMember</th>\n",
       "      <td>10000.0</td>\n",
       "      <td>0.515100</td>\n",
       "      <td>0.499797</td>\n",
       "      <td>0.00</td>\n",
       "      <td>0.00</td>\n",
       "      <td>1.000</td>\n",
       "      <td>1.0000</td>\n",
       "      <td>1.00</td>\n",
       "    </tr>\n",
       "    <tr>\n",
       "      <th>EstimatedSalary</th>\n",
       "      <td>10000.0</td>\n",
       "      <td>100090.239881</td>\n",
       "      <td>57510.492818</td>\n",
       "      <td>11.58</td>\n",
       "      <td>51002.11</td>\n",
       "      <td>100193.915</td>\n",
       "      <td>149388.2475</td>\n",
       "      <td>199992.48</td>\n",
       "    </tr>\n",
       "    <tr>\n",
       "      <th>Exited</th>\n",
       "      <td>10000.0</td>\n",
       "      <td>0.203700</td>\n",
       "      <td>0.402769</td>\n",
       "      <td>0.00</td>\n",
       "      <td>0.00</td>\n",
       "      <td>0.000</td>\n",
       "      <td>0.0000</td>\n",
       "      <td>1.00</td>\n",
       "    </tr>\n",
       "    <tr>\n",
       "      <th>Geography_Germany</th>\n",
       "      <td>10000.0</td>\n",
       "      <td>0.250900</td>\n",
       "      <td>0.433553</td>\n",
       "      <td>0.00</td>\n",
       "      <td>0.00</td>\n",
       "      <td>0.000</td>\n",
       "      <td>1.0000</td>\n",
       "      <td>1.00</td>\n",
       "    </tr>\n",
       "    <tr>\n",
       "      <th>Geography_Spain</th>\n",
       "      <td>10000.0</td>\n",
       "      <td>0.247700</td>\n",
       "      <td>0.431698</td>\n",
       "      <td>0.00</td>\n",
       "      <td>0.00</td>\n",
       "      <td>0.000</td>\n",
       "      <td>0.0000</td>\n",
       "      <td>1.00</td>\n",
       "    </tr>\n",
       "    <tr>\n",
       "      <th>Gender_Male</th>\n",
       "      <td>10000.0</td>\n",
       "      <td>0.545700</td>\n",
       "      <td>0.497932</td>\n",
       "      <td>0.00</td>\n",
       "      <td>0.00</td>\n",
       "      <td>1.000</td>\n",
       "      <td>1.0000</td>\n",
       "      <td>1.00</td>\n",
       "    </tr>\n",
       "  </tbody>\n",
       "</table>\n",
       "</div>"
      ],
      "text/plain": [
       "                     count           mean           std     min       25%  \\\n",
       "CreditScore        10000.0     650.528800     96.653299  350.00    584.00   \n",
       "Age                10000.0      38.921800     10.487806   18.00     32.00   \n",
       "Tenure             10000.0       4.543400      3.111573    0.00      2.00   \n",
       "Balance            10000.0   76485.889288  62397.405202    0.00      0.00   \n",
       "NumOfProducts      10000.0       1.530200      0.581654    1.00      1.00   \n",
       "HasCrCard          10000.0       0.705500      0.455840    0.00      0.00   \n",
       "IsActiveMember     10000.0       0.515100      0.499797    0.00      0.00   \n",
       "EstimatedSalary    10000.0  100090.239881  57510.492818   11.58  51002.11   \n",
       "Exited             10000.0       0.203700      0.402769    0.00      0.00   \n",
       "Geography_Germany  10000.0       0.250900      0.433553    0.00      0.00   \n",
       "Geography_Spain    10000.0       0.247700      0.431698    0.00      0.00   \n",
       "Gender_Male        10000.0       0.545700      0.497932    0.00      0.00   \n",
       "\n",
       "                          50%          75%        max  \n",
       "CreditScore           652.000     718.0000     850.00  \n",
       "Age                    37.000      44.0000      92.00  \n",
       "Tenure                  4.000       7.0000      10.00  \n",
       "Balance             97198.540  127644.2400  250898.09  \n",
       "NumOfProducts           1.000       2.0000       4.00  \n",
       "HasCrCard               1.000       1.0000       1.00  \n",
       "IsActiveMember          1.000       1.0000       1.00  \n",
       "EstimatedSalary    100193.915  149388.2475  199992.48  \n",
       "Exited                  0.000       0.0000       1.00  \n",
       "Geography_Germany       0.000       1.0000       1.00  \n",
       "Geography_Spain         0.000       0.0000       1.00  \n",
       "Gender_Male             1.000       1.0000       1.00  "
      ]
     },
     "execution_count": 9,
     "metadata": {},
     "output_type": "execute_result"
    }
   ],
   "source": [
    "data_reg = pd.get_dummies(df,drop_first =True)\n",
    "data_reg.describe(include='all').T"
   ]
  },
  {
   "cell_type": "code",
   "execution_count": 10,
   "metadata": {},
   "outputs": [
    {
     "name": "stdout",
     "output_type": "stream",
     "text": [
      "(10000,)\n",
      "(10000, 11)\n"
     ]
    }
   ],
   "source": [
    "reg_target = data_reg['Exited']\n",
    "reg_features = data_reg.drop('Exited', axis=1)\n",
    "print(reg_target.shape)\n",
    "print(reg_features.shape)"
   ]
  },
  {
   "cell_type": "markdown",
   "metadata": {},
   "source": [
    "##### Change the categorical features into numerical features for RandomForestClassifier and DecisionTreeClassifier models:"
   ]
  },
  {
   "cell_type": "code",
   "execution_count": 11,
   "metadata": {},
   "outputs": [
    {
     "data": {
      "text/html": [
       "<div>\n",
       "<style scoped>\n",
       "    .dataframe tbody tr th:only-of-type {\n",
       "        vertical-align: middle;\n",
       "    }\n",
       "\n",
       "    .dataframe tbody tr th {\n",
       "        vertical-align: top;\n",
       "    }\n",
       "\n",
       "    .dataframe thead th {\n",
       "        text-align: right;\n",
       "    }\n",
       "</style>\n",
       "<table border=\"1\" class=\"dataframe\">\n",
       "  <thead>\n",
       "    <tr style=\"text-align: right;\">\n",
       "      <th></th>\n",
       "      <th>count</th>\n",
       "      <th>mean</th>\n",
       "      <th>std</th>\n",
       "      <th>min</th>\n",
       "      <th>25%</th>\n",
       "      <th>50%</th>\n",
       "      <th>75%</th>\n",
       "      <th>max</th>\n",
       "    </tr>\n",
       "  </thead>\n",
       "  <tbody>\n",
       "    <tr>\n",
       "      <th>CreditScore</th>\n",
       "      <td>10000.0</td>\n",
       "      <td>259.5846</td>\n",
       "      <td>96.496107</td>\n",
       "      <td>0.0</td>\n",
       "      <td>193.00</td>\n",
       "      <td>261.0</td>\n",
       "      <td>327.00</td>\n",
       "      <td>459.0</td>\n",
       "    </tr>\n",
       "    <tr>\n",
       "      <th>Geography</th>\n",
       "      <td>10000.0</td>\n",
       "      <td>0.7463</td>\n",
       "      <td>0.827529</td>\n",
       "      <td>0.0</td>\n",
       "      <td>0.00</td>\n",
       "      <td>0.0</td>\n",
       "      <td>1.00</td>\n",
       "      <td>2.0</td>\n",
       "    </tr>\n",
       "    <tr>\n",
       "      <th>Gender</th>\n",
       "      <td>10000.0</td>\n",
       "      <td>0.5457</td>\n",
       "      <td>0.497932</td>\n",
       "      <td>0.0</td>\n",
       "      <td>0.00</td>\n",
       "      <td>1.0</td>\n",
       "      <td>1.00</td>\n",
       "      <td>1.0</td>\n",
       "    </tr>\n",
       "    <tr>\n",
       "      <th>Age</th>\n",
       "      <td>10000.0</td>\n",
       "      <td>20.9206</td>\n",
       "      <td>10.482065</td>\n",
       "      <td>0.0</td>\n",
       "      <td>14.00</td>\n",
       "      <td>19.0</td>\n",
       "      <td>26.00</td>\n",
       "      <td>69.0</td>\n",
       "    </tr>\n",
       "    <tr>\n",
       "      <th>Tenure</th>\n",
       "      <td>10000.0</td>\n",
       "      <td>4.5434</td>\n",
       "      <td>3.111573</td>\n",
       "      <td>0.0</td>\n",
       "      <td>2.00</td>\n",
       "      <td>4.0</td>\n",
       "      <td>7.00</td>\n",
       "      <td>10.0</td>\n",
       "    </tr>\n",
       "    <tr>\n",
       "      <th>Balance</th>\n",
       "      <td>10000.0</td>\n",
       "      <td>2036.7881</td>\n",
       "      <td>2125.232536</td>\n",
       "      <td>0.0</td>\n",
       "      <td>0.00</td>\n",
       "      <td>1383.5</td>\n",
       "      <td>3882.25</td>\n",
       "      <td>6381.0</td>\n",
       "    </tr>\n",
       "    <tr>\n",
       "      <th>NumOfProducts</th>\n",
       "      <td>10000.0</td>\n",
       "      <td>0.5302</td>\n",
       "      <td>0.581654</td>\n",
       "      <td>0.0</td>\n",
       "      <td>0.00</td>\n",
       "      <td>0.0</td>\n",
       "      <td>1.00</td>\n",
       "      <td>3.0</td>\n",
       "    </tr>\n",
       "    <tr>\n",
       "      <th>HasCrCard</th>\n",
       "      <td>10000.0</td>\n",
       "      <td>0.7055</td>\n",
       "      <td>0.455840</td>\n",
       "      <td>0.0</td>\n",
       "      <td>0.00</td>\n",
       "      <td>1.0</td>\n",
       "      <td>1.00</td>\n",
       "      <td>1.0</td>\n",
       "    </tr>\n",
       "    <tr>\n",
       "      <th>IsActiveMember</th>\n",
       "      <td>10000.0</td>\n",
       "      <td>0.5151</td>\n",
       "      <td>0.499797</td>\n",
       "      <td>0.0</td>\n",
       "      <td>0.00</td>\n",
       "      <td>1.0</td>\n",
       "      <td>1.00</td>\n",
       "      <td>1.0</td>\n",
       "    </tr>\n",
       "    <tr>\n",
       "      <th>EstimatedSalary</th>\n",
       "      <td>10000.0</td>\n",
       "      <td>4998.6212</td>\n",
       "      <td>2886.711202</td>\n",
       "      <td>0.0</td>\n",
       "      <td>2498.75</td>\n",
       "      <td>4998.5</td>\n",
       "      <td>7498.25</td>\n",
       "      <td>9998.0</td>\n",
       "    </tr>\n",
       "    <tr>\n",
       "      <th>Exited</th>\n",
       "      <td>10000.0</td>\n",
       "      <td>0.2037</td>\n",
       "      <td>0.402769</td>\n",
       "      <td>0.0</td>\n",
       "      <td>0.00</td>\n",
       "      <td>0.0</td>\n",
       "      <td>0.00</td>\n",
       "      <td>1.0</td>\n",
       "    </tr>\n",
       "  </tbody>\n",
       "</table>\n",
       "</div>"
      ],
      "text/plain": [
       "                   count       mean          std  min      25%     50%  \\\n",
       "CreditScore      10000.0   259.5846    96.496107  0.0   193.00   261.0   \n",
       "Geography        10000.0     0.7463     0.827529  0.0     0.00     0.0   \n",
       "Gender           10000.0     0.5457     0.497932  0.0     0.00     1.0   \n",
       "Age              10000.0    20.9206    10.482065  0.0    14.00    19.0   \n",
       "Tenure           10000.0     4.5434     3.111573  0.0     2.00     4.0   \n",
       "Balance          10000.0  2036.7881  2125.232536  0.0     0.00  1383.5   \n",
       "NumOfProducts    10000.0     0.5302     0.581654  0.0     0.00     0.0   \n",
       "HasCrCard        10000.0     0.7055     0.455840  0.0     0.00     1.0   \n",
       "IsActiveMember   10000.0     0.5151     0.499797  0.0     0.00     1.0   \n",
       "EstimatedSalary  10000.0  4998.6212  2886.711202  0.0  2498.75  4998.5   \n",
       "Exited           10000.0     0.2037     0.402769  0.0     0.00     0.0   \n",
       "\n",
       "                     75%     max  \n",
       "CreditScore       327.00   459.0  \n",
       "Geography           1.00     2.0  \n",
       "Gender              1.00     1.0  \n",
       "Age                26.00    69.0  \n",
       "Tenure              7.00    10.0  \n",
       "Balance          3882.25  6381.0  \n",
       "NumOfProducts       1.00     3.0  \n",
       "HasCrCard           1.00     1.0  \n",
       "IsActiveMember      1.00     1.0  \n",
       "EstimatedSalary  7498.25  9998.0  \n",
       "Exited              0.00     1.0  "
      ]
     },
     "execution_count": 11,
     "metadata": {},
     "output_type": "execute_result"
    }
   ],
   "source": [
    "encoder = OrdinalEncoder()\n",
    "encoder.fit(df) \n",
    "data_tree = pd.DataFrame(encoder.transform(df) ,columns=df.columns)\n",
    "data_tree.describe(include='all').T"
   ]
  },
  {
   "cell_type": "code",
   "execution_count": 12,
   "metadata": {},
   "outputs": [
    {
     "name": "stdout",
     "output_type": "stream",
     "text": [
      "(10000,)\n",
      "(10000, 11)\n"
     ]
    }
   ],
   "source": [
    "tree_target = data_tree['Exited']\n",
    "tree_features = data_reg.drop('Exited', axis=1)\n",
    "print(tree_target.shape)\n",
    "print(tree_features.shape)"
   ]
  },
  {
   "cell_type": "markdown",
   "metadata": {},
   "source": [
    "### 3. Examine the balance of classes:"
   ]
  },
  {
   "cell_type": "code",
   "execution_count": 13,
   "metadata": {},
   "outputs": [
    {
     "data": {
      "text/html": [
       "<div>\n",
       "<style scoped>\n",
       "    .dataframe tbody tr th:only-of-type {\n",
       "        vertical-align: middle;\n",
       "    }\n",
       "\n",
       "    .dataframe tbody tr th {\n",
       "        vertical-align: top;\n",
       "    }\n",
       "\n",
       "    .dataframe thead th {\n",
       "        text-align: right;\n",
       "    }\n",
       "</style>\n",
       "<table border=\"1\" class=\"dataframe\">\n",
       "  <thead>\n",
       "    <tr style=\"text-align: right;\">\n",
       "      <th></th>\n",
       "      <th>index</th>\n",
       "      <th>Exited</th>\n",
       "    </tr>\n",
       "  </thead>\n",
       "  <tbody>\n",
       "    <tr>\n",
       "      <th>0</th>\n",
       "      <td>0</td>\n",
       "      <td>7963</td>\n",
       "    </tr>\n",
       "    <tr>\n",
       "      <th>1</th>\n",
       "      <td>1</td>\n",
       "      <td>2037</td>\n",
       "    </tr>\n",
       "  </tbody>\n",
       "</table>\n",
       "</div>"
      ],
      "text/plain": [
       "   index  Exited\n",
       "0      0    7963\n",
       "1      1    2037"
      ]
     },
     "execution_count": 13,
     "metadata": {},
     "output_type": "execute_result"
    }
   ],
   "source": [
    "# Examine the balance of the classes:\n",
    "does_Exited = data_reg['Exited'].value_counts().reset_index()\n",
    "does_Exited"
   ]
  },
  {
   "cell_type": "code",
   "execution_count": 14,
   "metadata": {},
   "outputs": [
    {
     "data": {
      "text/plain": [
       "Text(0, 0.5, 'Frequency')"
      ]
     },
     "execution_count": 14,
     "metadata": {},
     "output_type": "execute_result"
    },
    {
     "data": {
      "image/png": "[encoded data removed]",
      "text/plain": [
       "<Figure size 432x288 with 1 Axes>"
      ]
     },
     "metadata": {
      "needs_background": "light"
     },
     "output_type": "display_data"
    }
   ],
   "source": [
    "pd.value_counts(data_reg['Exited']).plot.bar()\n",
    "plt.title('Exited classes histogram')\n",
    "plt.xlabel('Class')\n",
    "plt.ylabel('Frequency')"
   ]
  },
  {
   "cell_type": "markdown",
   "metadata": {},
   "source": [
    "**The data is imbalanced. \n",
    "There are 79.6% of negative targets, and 20.4% of positive targets, its possible to run models on the data, but not all the predictions will show the majority group value (0) \n",
    "but the precision and recall would be low.**"
   ]
  },
  {
   "cell_type": "markdown",
   "metadata": {},
   "source": [
    "* define function split_df, the function get features and target, and returning 6 sets:\n",
    "    * features_train and target_train - 60% of original data\n",
    "    * features_valid and target_valid - 20% or original data\n",
    "    * features_test and target_test - 20% or original data"
   ]
  },
  {
   "cell_type": "code",
   "execution_count": 15,
   "metadata": {},
   "outputs": [],
   "source": [
    "def split_df(features, target):\n",
    "    print(len(features),len(features))\n",
    "    features_train, features_remain, target_train, target_remain  = train_test_split(features,\n",
    "                                                                               target,\n",
    "                                                                               train_size = 0.6,\n",
    "                                                                               random_state=12345) \n",
    "\n",
    "    features_valid, features_test, target_valid, target_test = train_test_split(features_remain,\n",
    "                                                                                    target_remain, \n",
    "                                                                                    train_size=0.5, \n",
    "                                                                                    random_state=12345)\n",
    "\n",
    "    return features_train, features_valid, features_test, target_train, target_valid, target_test"
   ]
  },
  {
   "cell_type": "code",
   "execution_count": 16,
   "metadata": {},
   "outputs": [
    {
     "name": "stdout",
     "output_type": "stream",
     "text": [
      "10000 10000\n",
      "reg_features_train length 6000\n",
      "reg_features_valid length 2000\n",
      "reg_features_test length 2000\n",
      "reg_target_train length 6000\n",
      "reg_target_valid length 2000\n",
      "reg_target_test length 2000\n"
     ]
    }
   ],
   "source": [
    "# use the split_df function to split the Regression data:\n",
    "reg_features_train,reg_features_valid,reg_features_test,reg_target_train,reg_target_valid,reg_target_test = split_df(reg_features, reg_target)\n",
    "\n",
    "print(\"reg_features_train length\", len(reg_features_train))\n",
    "print(\"reg_features_valid length\", len(reg_features_valid))\n",
    "print(\"reg_features_test length\", len(reg_features_test))\n",
    "print(\"reg_target_train length\", len(reg_target_train))\n",
    "print(\"reg_target_valid length\", len(reg_target_valid))\n",
    "print(\"reg_target_test length\", len(reg_target_test))"
   ]
  },
  {
   "cell_type": "code",
   "execution_count": 17,
   "metadata": {},
   "outputs": [
    {
     "data": {
      "text/plain": [
       "0.08385744234800838"
      ]
     },
     "execution_count": 17,
     "metadata": {},
     "output_type": "execute_result"
    }
   ],
   "source": [
    "# Checking F1 score for the data as it is:\n",
    "model1 = LogisticRegression(random_state=12345, solver='liblinear')\n",
    "model1.fit(reg_features_train, reg_target_train)\n",
    "prediction1 = model1.predict(reg_features_valid)\n",
    "f1_score(reg_target_valid, prediction1)"
   ]
  },
  {
   "cell_type": "markdown",
   "metadata": {},
   "source": [
    "* we got an F1 score of 0.084, which is low as we suspected. \n",
    "* The recall and the precision are low  - we need to balance the data.  "
   ]
  },
  {
   "cell_type": "code",
   "execution_count": 18,
   "metadata": {},
   "outputs": [
    {
     "data": {
      "text/plain": [
       "0.4879267277268943"
      ]
     },
     "execution_count": 18,
     "metadata": {},
     "output_type": "execute_result"
    }
   ],
   "source": [
    "# Checking F1 score after changing the hyperprameter- class_weight='balanced'\n",
    "# The model fix the imbalance by assigning more weight to the manority group:\n",
    "model2 = LogisticRegression(random_state=12345,class_weight='balanced', solver='liblinear')\n",
    "model2.fit(reg_features_train, reg_target_train)\n",
    "prediction2 = model2.predict(reg_features_valid)\n",
    "f1_score(reg_target_valid, prediction2)"
   ]
  },
  {
   "cell_type": "markdown",
   "metadata": {},
   "source": [
    "* by changing the hyper parameter hyperparameter- class_weight='balanced' f1 score increases to 0.48, still low but better."
   ]
  },
  {
   "cell_type": "markdown",
   "metadata": {},
   "source": [
    "### 4. Improve the quality of the model:"
   ]
  },
  {
   "cell_type": "markdown",
   "metadata": {},
   "source": [
    "#### LogisticRegression model:"
   ]
  },
  {
   "cell_type": "code",
   "execution_count": 19,
   "metadata": {},
   "outputs": [
    {
     "name": "stdout",
     "output_type": "stream",
     "text": [
      "reg_target_train value count:\n",
      "0    0.800667\n",
      "1    0.199333\n",
      "Name: Exited, dtype: float64\n"
     ]
    }
   ],
   "source": [
    "# Examine the balance of the classes:\n",
    "print('reg_target_train value count:')\n",
    "print(reg_target_train.value_counts(normalize=True))"
   ]
  },
  {
   "cell_type": "markdown",
   "metadata": {},
   "source": [
    "**The class difference is 4. In order to compare the classes sizes, either decrease class \"0\" by 4 or increase class 1 by 4**"
   ]
  },
  {
   "cell_type": "code",
   "execution_count": 20,
   "metadata": {},
   "outputs": [],
   "source": [
    "repeat = 4"
   ]
  },
  {
   "cell_type": "markdown",
   "metadata": {},
   "source": [
    "we are going two balance the data frame  by upsample and SMOTE(Synthetic Minority Oversampling Technique): \n",
    "* upsample enlarge the class 1 by repeating the number on\n",
    "* SMOTE- make the model invent more observations in the spaces between the existing observation"
   ]
  },
  {
   "cell_type": "markdown",
   "metadata": {},
   "source": [
    "##### UpSample:"
   ]
  },
  {
   "cell_type": "code",
   "execution_count": 21,
   "metadata": {},
   "outputs": [],
   "source": [
    "def upsample(features, target, repeat):\n",
    "    features_zeros = features[target == 0]\n",
    "    features_ones = features[target == 1]\n",
    "    target_zeros = target[target == 0]\n",
    "    target_ones = target[target == 1]\n",
    "\n",
    "    features_upsampled = pd.concat([features_zeros] + [features_ones] * repeat)\n",
    "    target_upsampled = pd.concat([target_zeros] + [target_ones] * repeat)\n",
    "\n",
    "    features_upsampled, target_upsampled = shuffle(\n",
    "        features_upsampled, target_upsampled, random_state=12345\n",
    "    )\n",
    "\n",
    "    return features_upsampled, target_upsampled"
   ]
  },
  {
   "cell_type": "code",
   "execution_count": 22,
   "metadata": {},
   "outputs": [
    {
     "name": "stdout",
     "output_type": "stream",
     "text": [
      "upsample target for regression train set: Counter({0: 4804, 1: 4784})\n"
     ]
    }
   ],
   "source": [
    "reg_up_features_train, reg_up_target_train= upsample(reg_features_train, reg_target_train, repeat)\n",
    "counter_up = Counter(reg_up_target_train)\n",
    "print('upsample target for regression train set:', counter_up)"
   ]
  },
  {
   "cell_type": "code",
   "execution_count": 23,
   "metadata": {},
   "outputs": [
    {
     "data": {
      "text/plain": [
       "0.4604081632653061"
      ]
     },
     "execution_count": 23,
     "metadata": {},
     "output_type": "execute_result"
    }
   ],
   "source": [
    "# see if F1 score increased by the upsample:\n",
    "model3 = LogisticRegression(random_state=12345, solver='liblinear')\n",
    "model3.fit(reg_up_features_train, reg_up_target_train)\n",
    "prediction3 = model3.predict(reg_features_valid)\n",
    "f1_score(reg_target_valid, prediction3)"
   ]
  },
  {
   "cell_type": "markdown",
   "metadata": {},
   "source": [
    "* F1 score after apsampeling the trin set is 0.46.\n",
    "* By changing the hyperparameter above, the F1 score was 0.49- a better score.  \n",
    "* Let's see how SMOTE will change the F1 score "
   ]
  },
  {
   "cell_type": "markdown",
   "metadata": {},
   "source": [
    "##### SMOTE (Synthetic Minority Oversampling Technique):"
   ]
  },
  {
   "cell_type": "code",
   "execution_count": 24,
   "metadata": {},
   "outputs": [
    {
     "name": "stdout",
     "output_type": "stream",
     "text": [
      "SMOTE target for regression train set size: Counter({0: 4804, 1: 4804})\n"
     ]
    }
   ],
   "source": [
    "# Adjust the regression dataset with SMOTE:\n",
    "oversample = SMOTE()\n",
    "reg_smote_features_train, reg_smote_target_train = oversample.fit_resample(reg_features_train, reg_target_train)\n",
    "counter_smot = Counter(reg_smote_target_train)\n",
    "print('SMOTE target for regression train set size:', counter_smot)"
   ]
  },
  {
   "cell_type": "code",
   "execution_count": 25,
   "metadata": {},
   "outputs": [
    {
     "data": {
      "text/plain": [
       "0.46014790468364836"
      ]
     },
     "execution_count": 25,
     "metadata": {},
     "output_type": "execute_result"
    }
   ],
   "source": [
    "# see if F1 score increased by the SMOTE:\n",
    "model4 = LogisticRegression(random_state=12345, solver='liblinear')\n",
    "model4.fit(reg_smote_features_train, reg_smote_target_train)\n",
    "prediction4 = model4.predict(reg_features_valid)\n",
    "f1_score(reg_target_valid, prediction4)"
   ]
  },
  {
   "cell_type": "markdown",
   "metadata": {},
   "source": [
    "For LogisticRegression model:\n",
    "* F1 score after apsampeling the trin set is 0.46.\n",
    "* F1 score after using smote on the train set is 0.47, \n",
    "* By changing the hyperparameter above, the F1 score was 0.49 - which is the best score we got so.\n",
    "0.49 is a low score. we are going to try the DecisionTreeClassifier model."
   ]
  },
  {
   "cell_type": "markdown",
   "metadata": {},
   "source": [
    "#### DecisionTreeClassifier model:"
   ]
  },
  {
   "cell_type": "code",
   "execution_count": 26,
   "metadata": {},
   "outputs": [
    {
     "name": "stdout",
     "output_type": "stream",
     "text": [
      "10000 10000\n",
      "tree_features_train length 6000\n",
      "tree_features_valid length 2000\n",
      "tree_features_test length 2000\n",
      "tree_target_train length 6000\n",
      "tree_target_valid length 2000\n",
      "tree_target_test length 2000\n"
     ]
    }
   ],
   "source": [
    "# use the split_df function to split the Tree data:\n",
    "tree_features_train,tree_features_valid,tree_features_test,tree_target_train,tree_target_valid,tree_target_test = split_df(tree_features, tree_target)\n",
    "\n",
    "print(\"tree_features_train length\", len(tree_features_train))\n",
    "print(\"tree_features_valid length\", len(tree_features_valid))\n",
    "print(\"tree_features_test length\", len(tree_features_test))\n",
    "print(\"tree_target_train length\", len(tree_target_train))\n",
    "print(\"tree_target_valid length\", len(tree_target_valid))\n",
    "print(\"tree_target_test length\", len(tree_target_test))"
   ]
  },
  {
   "cell_type": "markdown",
   "metadata": {},
   "source": [
    "##### changing the hyperprameter:"
   ]
  },
  {
   "cell_type": "code",
   "execution_count": 27,
   "metadata": {},
   "outputs": [
    {
     "name": "stdout",
     "output_type": "stream",
     "text": [
      "max depth:  1\n",
      "F1 score: 0.4994903160040775\n",
      "max depth:  2\n",
      "F1 score: 0.541015625\n",
      "max depth:  3\n",
      "F1 score: 0.541015625\n",
      "max depth:  4\n",
      "F1 score: 0.5277777777777778\n",
      "max depth:  5\n",
      "F1 score: 0.5963791267305644\n",
      "max depth:  6\n",
      "F1 score: 0.5581835383159887\n"
     ]
    }
   ],
   "source": [
    "for depth in range(1, 7):\n",
    "        model5 = DecisionTreeClassifier(random_state=12345, \n",
    "                                        class_weight='balanced',\n",
    "                                         max_depth = depth)\n",
    "        # < train the model >\n",
    "        model5.fit(tree_features_train, tree_target_train) \n",
    "        predictions_valid = model5.predict(tree_features_valid) # get the model's predictions\n",
    "        print(\"max depth: \", depth)\n",
    "        print(\"F1 score:\", f1_score(tree_target_valid, predictions_valid))"
   ]
  },
  {
   "cell_type": "markdown",
   "metadata": {},
   "source": [
    "* For DecisionTreeClassifier with hyperparameter class_weight='balanced' and max depth of 5, we got F1 score 0.59, the best score so far\n",
    "* I'm going to try RandomForestClassifier: "
   ]
  },
  {
   "cell_type": "markdown",
   "metadata": {},
   "source": [
    "#### RandomForestClassifier model:"
   ]
  },
  {
   "cell_type": "markdown",
   "metadata": {},
   "source": [
    "##### UpSample:"
   ]
  },
  {
   "cell_type": "code",
   "execution_count": 28,
   "metadata": {},
   "outputs": [
    {
     "name": "stdout",
     "output_type": "stream",
     "text": [
      "upsample target for regression train set: Counter({0.0: 4804, 1.0: 4784})\n",
      "n_estimators:  10\n",
      "F1 score: 0.6054687499999999\n",
      "n_estimators:  11\n",
      "F1 score: 0.607843137254902\n",
      "n_estimators:  12\n",
      "F1 score: 0.6094674556213018\n",
      "n_estimators:  13\n",
      "F1 score: 0.6158415841584158\n",
      "n_estimators:  14\n",
      "F1 score: 0.6112759643916913\n"
     ]
    }
   ],
   "source": [
    "tree_up_features_train, tree_up_target_train= upsample(tree_features_train, tree_target_train, repeat)\n",
    "counter_up2 = Counter(tree_up_target_train)\n",
    "print('upsample target for regression train set:', counter_up2)\n",
    "\n",
    "# see if F1 score increased by the upsample:\n",
    "for n_estimators in range(10, 15):\n",
    "        model6 =  RandomForestClassifier(random_state=12345,\n",
    "                                         n_estimators=n_estimators,\n",
    "                                         max_depth= 7)\n",
    "        model6.fit(tree_up_features_train, tree_up_target_train) \n",
    "        predictions_valid1 = model6.predict(tree_features_valid) # get the model's predictions\n",
    "        print(\"n_estimators: \", n_estimators)\n",
    "        print(\"F1 score:\", f1_score(tree_target_valid, predictions_valid1))"
   ]
  },
  {
   "cell_type": "markdown",
   "metadata": {},
   "source": [
    "* The best F1 score- max depth of 7 with 13 estimators: 0.6158"
   ]
  },
  {
   "cell_type": "markdown",
   "metadata": {},
   "source": [
    "##### SMOTE (Synthetic Minority Oversampling Technique):"
   ]
  },
  {
   "cell_type": "code",
   "execution_count": 29,
   "metadata": {},
   "outputs": [
    {
     "name": "stdout",
     "output_type": "stream",
     "text": [
      "SMOTE target for regression train set size: Counter({0: 4804, 1: 4804})\n",
      "n_estimators:  10\n",
      "F1 score: 0.5597548518896834\n",
      "n_estimators:  11\n",
      "F1 score: 0.5595116988809765\n",
      "n_estimators:  12\n",
      "F1 score: 0.5544147843942505\n",
      "n_estimators:  13\n",
      "F1 score: 0.5640495867768593\n",
      "n_estimators:  14\n",
      "F1 score: 0.564366632337796\n"
     ]
    }
   ],
   "source": [
    "# Adjust the regression dataset with SMOTE:\n",
    "oversample2 = SMOTE()\n",
    "tree_smote_features_train, tree_smote_target_train = oversample.fit_resample(tree_features_train, tree_target_train)\n",
    "counter_smot2 = Counter(tree_smote_target_train)\n",
    "print('SMOTE target for regression train set size:', counter_smot)\n",
    "\n",
    "# see if F1 score increased by the SMOTE:\n",
    "for n_estimators in range(10, 15):\n",
    "        model7 =  RandomForestClassifier(random_state=12345,\n",
    "                                         n_estimators=n_estimators,\n",
    "                                         max_depth= 7)\n",
    "        model7.fit(tree_smote_features_train, tree_smote_target_train) \n",
    "        predictions_valid2 = model7.predict(tree_features_valid) # get the model's predictions\n",
    "        print(\"n_estimators: \", n_estimators)\n",
    "        print(\"F1 score:\", f1_score(tree_target_valid, predictions_valid2))"
   ]
  },
  {
   "cell_type": "markdown",
   "metadata": {},
   "source": [
    "* The best F1 score- max depth of 7 with 14 estimators: 0.5643"
   ]
  },
  {
   "cell_type": "code",
   "execution_count": 30,
   "metadata": {},
   "outputs": [
    {
     "name": "stdout",
     "output_type": "stream",
     "text": [
      "n_estimators:  6\n",
      "F1 score: 0.6189473684210526\n",
      "n_estimators:  7\n",
      "F1 score: 0.6223628691983123\n",
      "n_estimators:  8\n",
      "F1 score: 0.6214807090719499\n",
      "n_estimators:  9\n",
      "F1 score: 0.6145833333333333\n",
      "n_estimators:  10\n",
      "F1 score: 0.6150670794633644\n",
      "n_estimators:  11\n",
      "F1 score: 0.6089676746611052\n",
      "n_estimators:  12\n",
      "F1 score: 0.621196222455404\n",
      "n_estimators:  13\n",
      "F1 score: 0.613277133825079\n",
      "n_estimators:  14\n",
      "F1 score: 0.6144200626959248\n"
     ]
    }
   ],
   "source": [
    "for n_estimators in range(6, 15):\n",
    "        model8 =  RandomForestClassifier(random_state=12345,\n",
    "                                         class_weight='balanced',\n",
    "                                         n_estimators=n_estimators,\n",
    "                                         max_depth= 7)\n",
    "        model8.fit(tree_features_train, tree_target_train) \n",
    "        predictions_valid3 = model8.predict(tree_features_valid) # get the model's predictions\n",
    "        print(\"n_estimators: \", n_estimators)\n",
    "        print(\"F1 score:\", f1_score(tree_target_valid, predictions_valid3))"
   ]
  },
  {
   "cell_type": "markdown",
   "metadata": {},
   "source": [
    "For RandomForestClassifier:\n",
    "* after upsampling the train set with a max depth of 7 and 13 estimators, F1 score: 0.6158.\n",
    "* After using smote on the train set with a max depth of 7 and 14 estimators, F1 score: 0.5717\n",
    "* By changing the hyperparameter above, with a max depth of 7 and 7 estimators, the F1 score is 0.622 - which is the best score we got so far. \n",
    "\n",
    "We are going to run the model on the test set with RandomForestClassifier with a max depth of 7 and 7 estimators. "
   ]
  },
  {
   "cell_type": "markdown",
   "metadata": {},
   "source": [
    "### 5. Perform the final testing:"
   ]
  },
  {
   "cell_type": "markdown",
   "metadata": {},
   "source": [
    "#### Perform the final testing:"
   ]
  },
  {
   "cell_type": "code",
   "execution_count": 31,
   "metadata": {},
   "outputs": [
    {
     "data": {
      "text/plain": [
       "0.600418410041841"
      ]
     },
     "execution_count": 31,
     "metadata": {},
     "output_type": "execute_result"
    }
   ],
   "source": [
    "model9 = RandomForestClassifier(random_state=12345,\n",
    "                                         class_weight='balanced',\n",
    "                                         n_estimators= 7,\n",
    "                                         max_depth= 7)\n",
    "model9.fit(tree_features_train, tree_target_train) # train model on training set\n",
    "predictions_test = model9.predict(tree_features_test)\n",
    "f1_score(tree_target_test, predictions_test)"
   ]
  },
  {
   "cell_type": "markdown",
   "metadata": {},
   "source": [
    "###### **F1 Score of 0.600 for test set on RandomForestClassifier with 7 estimators and max_depth of 7**"
   ]
  },
  {
   "cell_type": "markdown",
   "metadata": {},
   "source": [
    "#### measure of AUC-ROC metric and compare it with the F1:"
   ]
  },
  {
   "cell_type": "code",
   "execution_count": 32,
   "metadata": {},
   "outputs": [
    {
     "name": "stdout",
     "output_type": "stream",
     "text": [
      "auc_roc score for tree based models:\n",
      "0.8058806005359336\n"
     ]
    }
   ],
   "source": [
    "probabilities_valid_tree = model7.predict_proba(tree_features_valid)\n",
    "probabilities_one_valid_tree = probabilities_valid_tree[:, 1]\n",
    "auc_roc_tree = roc_auc_score(tree_target_valid, probabilities_one_valid_tree)\n",
    "print('auc_roc score for tree based models:')\n",
    "print(auc_roc_tree)"
   ]
  },
  {
   "cell_type": "code",
   "execution_count": 33,
   "metadata": {},
   "outputs": [
    {
     "name": "stdout",
     "output_type": "stream",
     "text": [
      "auc_roc score for regression models:\n",
      "0.7262171922162606\n"
     ]
    }
   ],
   "source": [
    "probabilities_valid_reg = model4.predict_proba(reg_features_valid)\n",
    "probabilities_one_valid_reg = probabilities_valid_reg[:, 1]\n",
    "auc_roc_reg = roc_auc_score(reg_target_valid, probabilities_one_valid_reg)\n",
    "print('auc_roc score for regression models:')\n",
    "print(auc_roc_reg)"
   ]
  },
  {
   "cell_type": "code",
   "execution_count": 34,
   "metadata": {},
   "outputs": [
    {
     "data": {
      "image/png": "[encoded data removed]",
      "text/plain": [
       "<Figure size 864x432 with 1 Axes>"
      ]
     },
     "metadata": {
      "needs_background": "light"
     },
     "output_type": "display_data"
    }
   ],
   "source": [
    "\n",
    "fpr_tree, tpr_tree, threshold_tree = metrics.roc_curve(tree_target_valid, probabilities_one_valid_tree)\n",
    "fpr_reg, tpr_reg, threshold_reg = metrics.roc_curve(reg_target_valid, probabilities_one_valid_reg)\n",
    "\n",
    "plt.figure(figsize=(12,6))\n",
    "plt.title('Receiver Operating Characteristic')\n",
    "plt.plot(fpr_tree, tpr_tree, 'b', label = 'AUC_tree = %0.2f' % auc_roc_tree)\n",
    "plt.plot(fpr_reg, tpr_reg, 'g', label = 'AUC_reg = %0.2f' % auc_roc_reg)\n",
    "plt.legend(loc = 'lower right')\n",
    "plt.plot([0, 1], [0, 1],'r--')\n",
    "plt.xlim([0, 1])\n",
    "plt.ylim([0, 1])\n",
    "plt.ylabel('True Positive Rate')\n",
    "plt.xlabel('False Positive Rate')\n",
    "plt.show()"
   ]
  },
  {
   "cell_type": "markdown",
   "metadata": {},
   "source": [
    "Recall = the portion of true positive out of the sum of true positive and false negative\n",
    "Precision = the portion of true positive out of the sum of true positive and false positive\n",
    "F1 is the harmonic mean of Precision and Recall. \n",
    "0.599 means that  Recall and Precision harmonic mean is 0.599 which is relatively low.\n",
    "\n",
    "TPR(TP/P)= True positive out of all True answers\n",
    "FPR(FP/N)= False Positive out of the negative answer\n",
    "AUC-ROC =  the area under the curve of the receiver operating characteristic, representation of TPR dependency of FPR. \n",
    "0.85 means that TPR has a high value and FPR has a low value for the tree-based models. \n",
    "for regression models we got an auc_roc score of 0.725- the TPR is lower for the OHA coding method. "
   ]
  },
  {
   "cell_type": "markdown",
   "metadata": {},
   "source": [
    "### Conclusions:"
   ]
  },
  {
   "cell_type": "markdown",
   "metadata": {},
   "source": [
    "We need to predict whether a customer will leave the bank soon. \n",
    "We have the data on clients’ past behavior and termination of contracts with the bank.\n",
    "In the project above two models were built and data adjustments were made in order to find the maximum possible F1 score. \n",
    "\n",
    "First, we change the categorical features to numerical features by OHA for the Lineare regression model and by the ordinal encoder for Random Forest Classifier model.\n",
    "For Lineare regression we balnced the classes with upmodeling(F1= 0.46) of  and with SMOTHE(F1 =0.458)\n",
    "\n",
    "Finally we tried Random Forest Classifier model with max_depth of 7 and 7 estimators(F1 = 0.622)\n",
    "By running the Random Forest Classifier model with max_depth of 7 and 7 estimators we got an F1 score of  = 0.600\n",
    "The AUC-ROC value for Random Forest Classifier is 0.85 and for linear regression is 0.73.\n",
    "Those two metrics help assess the model and give totally different results. \n",
    "There are false predictions, quite a few of them, I would suggest finding more observations, and training another model. \n",
    "\n",
    "In this project, we create a model that can predict whether a customer will leave the bank based on:\n",
    "CreditScore, Geography, Gender, Age, Tenure, Balance, NumOfBanKProducts, HasCrrditCard, IsActiveMember, EstimatedSalary.\n",
    "Our predictions have a Recall and Precision harmonic value of 0.662, and high TPR value, and a low FPR value for Random Forest Classifier model.\n"
   ]
  }
 ],
 "metadata": {
  "kernelspec": {
   "display_name": "Python 3 (ipykernel)",
   "language": "python",
   "name": "python3"
  },
  "language_info": {
   "codemirror_mode": {
    "name": "ipython",
    "version": 3
   },
   "file_extension": ".py",
   "mimetype": "text/x-python",
   "name": "python",
   "nbconvert_exporter": "python",
   "pygments_lexer": "ipython3",
   "version": "3.9.7"
  },
  "toc": {
   "base_numbering": 1,
   "nav_menu": {},
   "number_sections": true,
   "sideBar": true,
   "skip_h1_title": true,
   "title_cell": "Table of Contents",
   "title_sidebar": "Contents",
   "toc_cell": false,
   "toc_position": {},
   "toc_section_display": true,
   "toc_window_display": false
  }
 },
 "nbformat": 4,
 "nbformat_minor": 2
}
